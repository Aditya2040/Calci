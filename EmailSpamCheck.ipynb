{
  "nbformat": 4,
  "nbformat_minor": 0,
  "metadata": {
    "colab": {
      "provenance": [],
      "authorship_tag": "ABX9TyPyMis0m1jrbnjquu9Y/b2Z",
      "include_colab_link": true
    },
    "kernelspec": {
      "name": "python3",
      "display_name": "Python 3"
    },
    "language_info": {
      "name": "python"
    }
  },
  "cells": [
    {
      "cell_type": "markdown",
      "metadata": {
        "id": "view-in-github",
        "colab_type": "text"
      },
      "source": [
        "<a href=\"https://colab.research.google.com/github/Aditya2040/Calci/blob/main/EmailSpamCheck.ipynb\" target=\"_parent\"><img src=\"https://colab.research.google.com/assets/colab-badge.svg\" alt=\"Open In Colab\"/></a>"
      ]
    },
    {
      "cell_type": "code",
      "execution_count": 1,
      "metadata": {
        "id": "Fxo475T8toYX"
      },
      "outputs": [],
      "source": [
        "import pandas as pd\n",
        "from sklearn.model_selection import train_test_split\n",
        "from sklearn.feature_extraction.text import CountVectorizer\n",
        "from sklearn.naive_bayes import MultinomialNB\n",
        "from sklearn.metrics import accuracy_score, classification_report, confusion_matrix\n",
        "import matplotlib.pyplot as plt\n",
        "import seaborn as sns"
      ]
    },
    {
      "cell_type": "code",
      "source": [
        "# Sample data\n",
        "data = {\n",
        "    'email_content': [\n",
        "        \"Congratulations! You've won a free iPhone. Click here to claim.\",\n",
        "        \"Meeting reminder for tomorrow at 10 AM.\",\n",
        "        \"Urgent: Your account has been compromised. Verify your details now.\",\n",
        "        \"Project proposal submission deadline is next Friday.\",\n",
        "        \"Click now to win a vacation package!\",\n",
        "        \"Regarding the report from last week.\",\n",
        "        \"Your Amazon shipment is on its way.\",\n",
        "        \"Exclusive offer: Get 50% off on all products!\",\n",
        "        \"Let's discuss the next steps for the marketing campaign.\",\n",
        "        \"Limited time offer! Claim your prize now.\"\n",
        "    ],\n",
        "    'label': [\n",
        "        'spam',\n",
        "        'not spam',\n",
        "        'spam',\n",
        "        'not spam',\n",
        "        'spam',\n",
        "        'not spam',\n",
        "        'not spam',\n",
        "        'spam',\n",
        "        'not spam',\n",
        "        'spam'\n",
        "    ]\n",
        "}\n",
        "\n",
        "df = pd.DataFrame(data)\n",
        "print(\"Original DataFrame:\")\n",
        "print(df)\n",
        "print(\"\\nValue Counts of Labels:\")\n",
        "print(df['label'].value_counts())"
      ],
      "metadata": {
        "colab": {
          "base_uri": "https://localhost:8080/"
        },
        "id": "9AoLtinhuNd9",
        "outputId": "4297e924-9c1f-4293-d7c1-dca83db538b8"
      },
      "execution_count": 2,
      "outputs": [
        {
          "output_type": "stream",
          "name": "stdout",
          "text": [
            "Original DataFrame:\n",
            "                                       email_content     label\n",
            "0  Congratulations! You've won a free iPhone. Cli...      spam\n",
            "1            Meeting reminder for tomorrow at 10 AM.  not spam\n",
            "2  Urgent: Your account has been compromised. Ver...      spam\n",
            "3  Project proposal submission deadline is next F...  not spam\n",
            "4               Click now to win a vacation package!      spam\n",
            "5               Regarding the report from last week.  not spam\n",
            "6                Your Amazon shipment is on its way.  not spam\n",
            "7      Exclusive offer: Get 50% off on all products!      spam\n",
            "8  Let's discuss the next steps for the marketing...  not spam\n",
            "9          Limited time offer! Claim your prize now.      spam\n",
            "\n",
            "Value Counts of Labels:\n",
            "label\n",
            "spam        5\n",
            "not spam    5\n",
            "Name: count, dtype: int64\n"
          ]
        }
      ]
    },
    {
      "cell_type": "code",
      "source": [
        "# Separate features (X) and target (y)\n",
        "X = df['email_content']\n",
        "y = df['label']\n",
        "\n",
        "# Initialize CountVectorizer\n",
        "vectorizer = CountVectorizer()\n",
        "\n",
        "# Fit and transform the email content\n",
        "X_vectorized = vectorizer.fit_transform(X)\n",
        "\n",
        "print(\"\\nShape of Vectorized Data (Number of emails, Number of unique words):\", X_vectorized.shape)\n",
        "print(\"\\nFirst 5 rows of vectorized data (sparse matrix representation):\")\n",
        "print(X_vectorized[:5])\n",
        "print(\"\\nFeatures (unique words) extracted:\")\n",
        "print(vectorizer.get_feature_names_out())"
      ],
      "metadata": {
        "colab": {
          "base_uri": "https://localhost:8080/"
        },
        "id": "lvNyYSzTuZtE",
        "outputId": "8cf506de-770b-47e4-9ffb-170da3e51150"
      },
      "execution_count": 3,
      "outputs": [
        {
          "output_type": "stream",
          "name": "stdout",
          "text": [
            "\n",
            "Shape of Vectorized Data (Number of emails, Number of unique words): (10, 62)\n",
            "\n",
            "First 5 rows of vectorized data (sparse matrix representation):\n",
            "<Compressed Sparse Row sparse matrix of dtype 'int64'\n",
            "\twith 39 stored elements and shape (5, 62)>\n",
            "  Coords\tValues\n",
            "  (0, 12)\t1\n",
            "  (0, 60)\t1\n",
            "  (0, 54)\t1\n",
            "  (0, 59)\t1\n",
            "  (0, 18)\t1\n",
            "  (0, 24)\t1\n",
            "  (0, 10)\t1\n",
            "  (0, 23)\t1\n",
            "  (0, 50)\t1\n",
            "  (0, 9)\t1\n",
            "  (1, 31)\t1\n",
            "  (1, 43)\t1\n",
            "  (1, 17)\t1\n",
            "  (1, 51)\t1\n",
            "  (1, 6)\t1\n",
            "  (1, 0)\t1\n",
            "  (1, 4)\t1\n",
            "  (2, 52)\t1\n",
            "  (2, 61)\t2\n",
            "  (2, 2)\t1\n",
            "  (2, 22)\t1\n",
            "  (2, 7)\t1\n",
            "  (2, 11)\t1\n",
            "  (2, 55)\t1\n",
            "  (2, 14)\t1\n",
            "  (2, 33)\t1\n",
            "  (3, 40)\t1\n",
            "  (3, 41)\t1\n",
            "  (3, 47)\t1\n",
            "  (3, 13)\t1\n",
            "  (3, 25)\t1\n",
            "  (3, 32)\t1\n",
            "  (3, 19)\t1\n",
            "  (4, 10)\t1\n",
            "  (4, 50)\t1\n",
            "  (4, 33)\t1\n",
            "  (4, 58)\t1\n",
            "  (4, 53)\t1\n",
            "  (4, 37)\t1\n",
            "\n",
            "Features (unique words) extracted:\n",
            "['10' '50' 'account' 'all' 'am' 'amazon' 'at' 'been' 'campaign' 'claim'\n",
            " 'click' 'compromised' 'congratulations' 'deadline' 'details' 'discuss'\n",
            " 'exclusive' 'for' 'free' 'friday' 'from' 'get' 'has' 'here' 'iphone' 'is'\n",
            " 'its' 'last' 'let' 'limited' 'marketing' 'meeting' 'next' 'now' 'off'\n",
            " 'offer' 'on' 'package' 'prize' 'products' 'project' 'proposal'\n",
            " 'regarding' 'reminder' 'report' 'shipment' 'steps' 'submission' 'the'\n",
            " 'time' 'to' 'tomorrow' 'urgent' 'vacation' 've' 'verify' 'way' 'week'\n",
            " 'win' 'won' 'you' 'your']\n"
          ]
        }
      ]
    },
    {
      "cell_type": "code",
      "source": [
        "X_train, X_test, y_train, y_test = train_test_split(X_vectorized, y, test_size=0.2, random_state=42)\n",
        "\n",
        "print(f\"\\nTraining set size: {X_train.shape[0]} emails\")\n",
        "print(f\"Testing set size: {X_test.shape[0]} emails\")"
      ],
      "metadata": {
        "colab": {
          "base_uri": "https://localhost:8080/"
        },
        "id": "Mp_DWMe6umRY",
        "outputId": "6d440500-89d8-464c-d831-46fb22a0a1d1"
      },
      "execution_count": 4,
      "outputs": [
        {
          "output_type": "stream",
          "name": "stdout",
          "text": [
            "\n",
            "Training set size: 8 emails\n",
            "Testing set size: 2 emails\n"
          ]
        }
      ]
    },
    {
      "cell_type": "code",
      "source": [
        "# Initialize the Multinomial Naive Bayes classifier\n",
        "model = MultinomialNB()\n",
        "\n",
        "# Train the model using the training data\n",
        "model.fit(X_train, y_train)\n",
        "\n",
        "print(\"\\nModel trained successfully!\")"
      ],
      "metadata": {
        "colab": {
          "base_uri": "https://localhost:8080/"
        },
        "id": "PLr4LHOeuv7O",
        "outputId": "a31a0691-0e9d-4895-bf2c-fc0ca3cc3cca"
      },
      "execution_count": 5,
      "outputs": [
        {
          "output_type": "stream",
          "name": "stdout",
          "text": [
            "\n",
            "Model trained successfully!\n"
          ]
        }
      ]
    },
    {
      "cell_type": "code",
      "source": [
        "# Make predictions on the test set\n",
        "y_pred = model.predict(X_test)\n",
        "\n",
        "print(\"\\nPredictions on the test set:\")\n",
        "for i in range(len(y_test)):\n",
        "    print(f\"Actual: {y_test.iloc[i]}, Predicted: {y_pred[i]}\")"
      ],
      "metadata": {
        "colab": {
          "base_uri": "https://localhost:8080/"
        },
        "id": "EsGh0cZIu38T",
        "outputId": "d14af532-df33-42b9-ecd8-057d3bbd13ff"
      },
      "execution_count": 6,
      "outputs": [
        {
          "output_type": "stream",
          "name": "stdout",
          "text": [
            "\n",
            "Predictions on the test set:\n",
            "Actual: not spam, Predicted: not spam\n",
            "Actual: not spam, Predicted: not spam\n"
          ]
        }
      ]
    },
    {
      "cell_type": "code",
      "source": [
        "accuracy = accuracy_score(y_test, y_pred)\n",
        "print(f\"\\nAccuracy Score: {accuracy:.2f}\")"
      ],
      "metadata": {
        "colab": {
          "base_uri": "https://localhost:8080/"
        },
        "id": "CbksE4DRu7rj",
        "outputId": "2e5b72fe-84fa-43df-fc84-df273f5a1005"
      },
      "execution_count": 7,
      "outputs": [
        {
          "output_type": "stream",
          "name": "stdout",
          "text": [
            "\n",
            "Accuracy Score: 1.00\n"
          ]
        }
      ]
    }
  ]
}